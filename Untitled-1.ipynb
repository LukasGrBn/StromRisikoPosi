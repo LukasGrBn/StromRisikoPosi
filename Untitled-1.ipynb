{
 "cells": [
  {
   "cell_type": "code",
   "execution_count": 1,
   "metadata": {},
   "outputs": [],
   "source": [
    "import pandas as pd\n",
    "import numpy as np\n",
    "from datetime import datetime, timedelta"
   ]
  },
  {
   "cell_type": "code",
   "execution_count": null,
   "metadata": {},
   "outputs": [],
   "source": [
    "url = \"https://hc-ping.com/\"\n",
    "uuid = \"e8d3d0b1-d915-44c6-8f04-1781e491794d\"\n",
    "\n",
    "proxies = {\n",
    "    \"http\": \"http://172.16.16.28:3128\",\n",
    "    \"https\": \"http://172.16.16.28:3128\"\n",
    "}"
   ]
  },
  {
   "cell_type": "markdown",
   "metadata": {},
   "source": [
    "Risikopostion werden importiert: \n",
    "\n",
    "- Einspeiser daten nur für das laufende Jahr vorhanden. Ist das gewollt/ ein problem?"
   ]
  },
  {
   "cell_type": "code",
   "execution_count": 18,
   "metadata": {},
   "outputs": [
    {
     "name": "stderr",
     "output_type": "stream",
     "text": [
      "C:\\Users\\bngrlu\\AppData\\Local\\Temp\\ipykernel_10272\\3440564064.py:6: DtypeWarning: Columns (1,2,3,4,5,6,7,8) have mixed types. Specify dtype option on import or set low_memory=False.\n",
      "  eod_verbraucher = pd.read_csv(eod_verbraucher_path, sep=';', decimal=',', encoding = 'ISO-8859-1')\n"
     ]
    }
   ],
   "source": [
    "#Lade EOD Risiko Posi Strom\n",
    "eod_einspeiser_path = r'\\\\badenova.intern\\daten\\MED\\MED-EB\\89 - Werkzeuge INTERN\\PSI_EXPORT_PROD\\PFM\\EoD_Strom_OPos_PFWert_h_2.csv'\n",
    "eod_verbraucher_path = r'\\\\badenova.intern\\daten\\MED\\MED-EB\\89 - Werkzeuge INTERN\\PSI_EXPORT_PROD\\PFM\\EoD_Strom_OPos_PFWert_h.csv'\n",
    "\n",
    "eod_einspeiser = pd.read_csv(eod_einspeiser_path, sep=';', decimal=',', encoding = 'ISO-8859-1')\n",
    "eod_verbraucher = pd.read_csv(eod_verbraucher_path, sep=';', decimal=',', encoding = 'ISO-8859-1')\n",
    "\n",
    "eod_einspeiser= eod_einspeiser.iloc[:, [0, 4]]\n",
    "eod_verbraucher= eod_verbraucher.iloc[:, [0, 4]]\n",
    "\n",
    "eod_einspeiser = eod_einspeiser.iloc[9:, :]  # Keep rows from index 8 to the end\n",
    "eod_einspeiser.columns = ['Datum', 'Risiko Posi Einspeiser']\n",
    "eod_einspeiser['Datum'] = pd.to_datetime(eod_einspeiser['Datum'], format='%d.%m.%Y %H:%M')\n",
    "eod_einspeiser['Risiko Posi Einspeiser'] = eod_einspeiser['Risiko Posi Einspeiser'].str.replace(',', '.').astype(float)\n",
    "eod_einspeiser['Risiko Posi Einspeiser'] = pd.to_numeric(eod_einspeiser['Risiko Posi Einspeiser'], errors='coerce')\n",
    "\n",
    "eod_verbraucher = eod_verbraucher.iloc[9:, :]  # Keep rows from index 8 to the end\n",
    "eod_verbraucher.columns = ['Datum', 'Risiko Posi Verbraucher']\n",
    "eod_verbraucher['Datum'] = pd.to_datetime(eod_verbraucher['Datum'], format='%d.%m.%Y %H:%M')\n",
    "eod_verbraucher['Risiko Posi Verbraucher'] = eod_verbraucher['Risiko Posi Verbraucher'].str.replace(',', '.').astype(float)\n",
    "eod_verbraucher['Risiko Posi Verbraucher'] = pd.to_numeric(eod_verbraucher['Risiko Posi Verbraucher'], errors='coerce')\n"
   ]
  },
  {
   "cell_type": "code",
   "execution_count": 19,
   "metadata": {},
   "outputs": [],
   "source": [
    "merged_df = pd.merge(eod_verbraucher, eod_einspeiser, on=\"Datum\", how=\"outer\")\n",
    "\n",
    "merged_df['Netto Position'] = merged_df['Risiko Posi Verbraucher'] - merged_df['Risiko Posi Einspeiser']"
   ]
  }
 ],
 "metadata": {
  "kernelspec": {
   "display_name": "MDS",
   "language": "python",
   "name": "python3"
  },
  "language_info": {
   "codemirror_mode": {
    "name": "ipython",
    "version": 3
   },
   "file_extension": ".py",
   "mimetype": "text/x-python",
   "name": "python",
   "nbconvert_exporter": "python",
   "pygments_lexer": "ipython3",
   "version": "3.12.1"
  }
 },
 "nbformat": 4,
 "nbformat_minor": 2
}
